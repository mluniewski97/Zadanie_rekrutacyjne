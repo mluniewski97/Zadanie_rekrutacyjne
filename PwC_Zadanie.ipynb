{
 "cells": [
  {
   "cell_type": "code",
   "execution_count": 1,
   "metadata": {},
   "outputs": [],
   "source": [
    "#Tworze liste z 30 liczbami, niektore powtarzaja sie, aby pokazac, dzialanie programu\n",
    "myList = [3, -2, 20, 19, -5, 2, -2, -300, -250, 230,\n",
    "         213, 23, -54, 34, -64, 45, 194, 123, 165, -43,\n",
    "         222, 111, -164, -85, -25, 33, 14, 35, -12, 23]"
   ]
  },
  {
   "cell_type": "code",
   "execution_count": 2,
   "metadata": {},
   "outputs": [
    {
     "data": {
      "text/plain": [
       "[3,\n",
       " 2,\n",
       " 20,\n",
       " 19,\n",
       " 5,\n",
       " 2,\n",
       " 2,\n",
       " 300,\n",
       " 250,\n",
       " 230,\n",
       " 213,\n",
       " 23,\n",
       " 54,\n",
       " 34,\n",
       " 64,\n",
       " 45,\n",
       " 194,\n",
       " 123,\n",
       " 165,\n",
       " 43,\n",
       " 222,\n",
       " 111,\n",
       " 164,\n",
       " 85,\n",
       " 25,\n",
       " 33,\n",
       " 14,\n",
       " 35,\n",
       " 12,\n",
       " 23]"
      ]
     },
     "execution_count": 2,
     "metadata": {},
     "output_type": "execute_result"
    }
   ],
   "source": [
    "#Funkcja abs() zwraca wartość bezwzględną i tworze liste z wartosciami bezwzglednymi\n",
    "absList = list(map(abs, myList))\n",
    "absList"
   ]
  },
  {
   "cell_type": "code",
   "execution_count": 3,
   "metadata": {},
   "outputs": [],
   "source": [
    "#Znajduje minimalna wartosc sposrod listy, stworzonej powyzej\n",
    "minValue = min(absList)"
   ]
  },
  {
   "cell_type": "code",
   "execution_count": 4,
   "metadata": {},
   "outputs": [
    {
     "name": "stdout",
     "output_type": "stream",
     "text": [
      "[1, 5, 6]\n"
     ]
    }
   ],
   "source": [
    "#Sprawdzam, czy wystepuja duplikaty minimalnej wartosci znalezionej w poprzednim kroku. Znajduje ich indeksy w liscie i tworze liste z indeksami\n",
    "duplList=[i for i in range(len(absList)) if absList[i]==minValue]\n",
    "print(duplList)"
   ]
  },
  {
   "cell_type": "code",
   "execution_count": 5,
   "metadata": {},
   "outputs": [],
   "source": [
    "#Przypisuje 2 listy, aby odwolac sie za pomoca znalezionych w poprzednim kroku indeksow do oryginalnej listy\n",
    "finList = [myList[i] for i in duplList] \n"
   ]
  },
  {
   "cell_type": "code",
   "execution_count": 6,
   "metadata": {},
   "outputs": [
    {
     "name": "stdout",
     "output_type": "stream",
     "text": [
      "Wartosci najblizsze zeru: [-2, 2, -2]\n"
     ]
    }
   ],
   "source": [
    "#Przedstawiam znalezione wartosci, ktore sa najblizej 0 \n",
    "print (\"Wartosci najblizsze zeru: \" + str(finList)) "
   ]
  }
 ],
 "metadata": {
  "interpreter": {
   "hash": "aee8b7b246df8f9039afb4144a1f6fd8d2ca17a180786b69acc140d282b71a49"
  },
  "kernelspec": {
   "display_name": "Python 3.9.10 64-bit",
   "language": "python",
   "name": "python3"
  },
  "language_info": {
   "codemirror_mode": {
    "name": "ipython",
    "version": 3
   },
   "file_extension": ".py",
   "mimetype": "text/x-python",
   "name": "python",
   "nbconvert_exporter": "python",
   "pygments_lexer": "ipython3",
   "version": "3.9.10"
  },
  "orig_nbformat": 4
 },
 "nbformat": 4,
 "nbformat_minor": 2
}
